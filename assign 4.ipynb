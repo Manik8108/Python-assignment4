{
 "cells": [
  {
   "cell_type": "code",
   "execution_count": 2,
   "id": "22cb0efe-5eba-47df-b776-8402945b3247",
   "metadata": {},
   "outputs": [
    {
     "name": "stdout",
     "output_type": "stream",
     "text": [
      "1\n",
      "2\n",
      "3\n",
      "4\n",
      "5\n"
     ]
    }
   ],
   "source": [
    "#Print numbers from 1 to 5 using a while loop.\n",
    "\n",
    "n = 6\n",
    "i = 1\n",
    "while(i<n):\n",
    "    print(i)\n",
    "    i = i+1"
   ]
  },
  {
   "cell_type": "code",
   "execution_count": 3,
   "id": "f388067b-35e5-4965-9959-4197cb69c04e",
   "metadata": {},
   "outputs": [
    {
     "name": "stdout",
     "output_type": "stream",
     "text": [
      "1\n",
      "3\n",
      "6\n",
      "10\n",
      "15\n",
      "21\n",
      "28\n",
      "36\n",
      "45\n",
      "55\n"
     ]
    }
   ],
   "source": [
    "#Calculate the sum of numbers from 1 to 10 using a while loop.\n",
    "\n",
    "i = 1\n",
    "sum = 0\n",
    "while(i<=10):\n",
    "    sum = sum+i\n",
    "    i = i+1\n",
    "    print(sum)"
   ]
  },
  {
   "cell_type": "code",
   "execution_count": 3,
   "id": "eb447e6d-2a13-46d7-ab85-299042671edd",
   "metadata": {},
   "outputs": [
    {
     "name": "stdin",
     "output_type": "stream",
     "text": [
      "enter any number: 5\n"
     ]
    },
    {
     "name": "stdout",
     "output_type": "stream",
     "text": [
      "factorial number is: 120\n"
     ]
    }
   ],
   "source": [
    "#Calculate the factorial of a number using a for loop.\n",
    "\n",
    "num = int(input(\"enter any number:\"))\n",
    "fact = 1\n",
    "for i in range(1,num+1):\n",
    "    fact = fact*i\n",
    "print(\"factorial number is:\",fact)"
   ]
  },
  {
   "cell_type": "code",
   "execution_count": 4,
   "id": "be8d3ca4-d8ca-4839-a0cc-bcad91b3b358",
   "metadata": {},
   "outputs": [
    {
     "name": "stdin",
     "output_type": "stream",
     "text": [
      "enter a string: welcome to python\n"
     ]
    },
    {
     "name": "stdout",
     "output_type": "stream",
     "text": [
      "Number of vowels in string: 5\n"
     ]
    }
   ],
   "source": [
    "#Count the number of vowels in a string using a for loop.\n",
    "\n",
    "st = input(\"enter a string:\")\n",
    "vow = 0\n",
    "for i in st:\n",
    "    if(i =='a' or i =='e' or i =='i' or i =='o' or i =='u'):\n",
    "        vow = vow+1\n",
    "print(\"Number of vowels in string:\",vow)"
   ]
  },
  {
   "cell_type": "code",
   "execution_count": 7,
   "id": "1c63f693-570d-484d-ae42-ea3e498fd399",
   "metadata": {},
   "outputs": [
    {
     "name": "stdin",
     "output_type": "stream",
     "text": [
      "enter the number of rows: 5\n"
     ]
    },
    {
     "name": "stdout",
     "output_type": "stream",
     "text": [
      "*\n",
      "**\n",
      "***\n",
      "****\n",
      "*****\n"
     ]
    }
   ],
   "source": [
    "#Print a pattern using a nested loops.\n",
    "\n",
    "rows = int(input(\"enter the number of rows:\"))\n",
    "for i in range(0,rows):\n",
    "    for j in range(0,i+1):\n",
    "        print(\"*\",end=\"\")\n",
    "    print()"
   ]
  },
  {
   "cell_type": "code",
   "execution_count": 11,
   "id": "6108b236-7d44-47f9-9082-ccc33ae219c3",
   "metadata": {},
   "outputs": [
    {
     "name": "stdout",
     "output_type": "stream",
     "text": [
      "1x1 =  1\n",
      "1x2 =  2\n",
      "1x3 =  3\n",
      "1x4 =  4\n",
      "1x5 =  5\n",
      "1x6 =  6\n",
      "1x7 =  7\n",
      "1x8 =  8\n",
      "1x9 =  9\n",
      "1x10 =  10\n",
      "2x1 =  2\n",
      "2x2 =  4\n",
      "2x3 =  6\n",
      "2x4 =  8\n",
      "2x5 =  10\n",
      "2x6 =  12\n",
      "2x7 =  14\n",
      "2x8 =  16\n",
      "2x9 =  18\n",
      "2x10 =  20\n",
      "3x1 =  3\n",
      "3x2 =  6\n",
      "3x3 =  9\n",
      "3x4 =  12\n",
      "3x5 =  15\n",
      "3x6 =  18\n",
      "3x7 =  21\n",
      "3x8 =  24\n",
      "3x9 =  27\n",
      "3x10 =  30\n",
      "4x1 =  4\n",
      "4x2 =  8\n",
      "4x3 =  12\n",
      "4x4 =  16\n",
      "4x5 =  20\n",
      "4x6 =  24\n",
      "4x7 =  28\n",
      "4x8 =  32\n",
      "4x9 =  36\n",
      "4x10 =  40\n",
      "5x1 =  5\n",
      "5x2 =  10\n",
      "5x3 =  15\n",
      "5x4 =  20\n",
      "5x5 =  25\n",
      "5x6 =  30\n",
      "5x7 =  35\n",
      "5x8 =  40\n",
      "5x9 =  45\n",
      "5x10 =  50\n",
      "6x1 =  6\n",
      "6x2 =  12\n",
      "6x3 =  18\n",
      "6x4 =  24\n",
      "6x5 =  30\n",
      "6x6 =  36\n",
      "6x7 =  42\n",
      "6x8 =  48\n",
      "6x9 =  54\n",
      "6x10 =  60\n",
      "7x1 =  7\n",
      "7x2 =  14\n",
      "7x3 =  21\n",
      "7x4 =  28\n",
      "7x5 =  35\n",
      "7x6 =  42\n",
      "7x7 =  49\n",
      "7x8 =  56\n",
      "7x9 =  63\n",
      "7x10 =  70\n",
      "8x1 =  8\n",
      "8x2 =  16\n",
      "8x3 =  24\n",
      "8x4 =  32\n",
      "8x5 =  40\n",
      "8x6 =  48\n",
      "8x7 =  56\n",
      "8x8 =  64\n",
      "8x9 =  72\n",
      "8x10 =  80\n",
      "9x1 =  9\n",
      "9x2 =  18\n",
      "9x3 =  27\n",
      "9x4 =  36\n",
      "9x5 =  45\n",
      "9x6 =  54\n",
      "9x7 =  63\n",
      "9x8 =  72\n",
      "9x9 =  81\n",
      "9x10 =  90\n",
      "10x1 =  10\n",
      "10x2 =  20\n",
      "10x3 =  30\n",
      "10x4 =  40\n",
      "10x5 =  50\n",
      "10x6 =  60\n",
      "10x7 =  70\n",
      "10x8 =  80\n",
      "10x9 =  90\n",
      "10x10 =  100\n"
     ]
    }
   ],
   "source": [
    "#Generate a multiplication table using a nested loops.\n",
    "\n",
    "\n",
    "for i in range(1,11):\n",
    "    for j in range(1,11):\n",
    "        print(f\"{i}x{j} = \", i*j)\n"
   ]
  },
  {
   "cell_type": "code",
   "execution_count": null,
   "id": "dccb4e74-e513-4a5c-aed8-becccf00b347",
   "metadata": {},
   "outputs": [],
   "source": []
  }
 ],
 "metadata": {
  "kernelspec": {
   "display_name": "Python 3 (ipykernel)",
   "language": "python",
   "name": "python3"
  },
  "language_info": {
   "codemirror_mode": {
    "name": "ipython",
    "version": 3
   },
   "file_extension": ".py",
   "mimetype": "text/x-python",
   "name": "python",
   "nbconvert_exporter": "python",
   "pygments_lexer": "ipython3",
   "version": "3.10.8"
  }
 },
 "nbformat": 4,
 "nbformat_minor": 5
}
